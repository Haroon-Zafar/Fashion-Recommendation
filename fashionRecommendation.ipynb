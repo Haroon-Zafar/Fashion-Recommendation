{
 "cells": [
  {
   "cell_type": "code",
   "execution_count": 29,
   "metadata": {
    "pycharm": {
     "is_executing": true,
     "name": "#%%\n"
    }
   },
   "outputs": [],
   "source": [
    "import tensorflow\n",
    "from tensorflow.keras.preprocessing import image \n",
    "from tensorflow.keras.preprocessing import image\n",
    "from tensorflow.keras.layers import GlobalMaxPooling2D\n",
    "from tensorflow.keras.applications.resnet50 import ResNet50, preprocess_input\n",
    "\n",
    "import numpy as np \n",
    "from numpy.linalg import norm\n"
   ]
  },
  {
   "cell_type": "code",
   "execution_count": 3,
   "metadata": {
    "pycharm": {
     "is_executing": true,
     "name": "#%%\n"
    }
   },
   "outputs": [],
   "source": [
    "# doing it for one image\n",
    "# bringing the image in the same format as the model\n",
    "\n",
    "img = image.load_img('images/1163.jpg', target_size=(224, 224))"
   ]
  },
  {
   "cell_type": "code",
   "execution_count": 4,
   "metadata": {
    "pycharm": {
     "name": "#%%\n"
    }
   },
   "outputs": [],
   "source": [
    "# converting the image to array\n",
    "\n",
    "imgArray = image.img_to_array(img)\n"
   ]
  },
  {
   "cell_type": "code",
   "execution_count": 6,
   "metadata": {},
   "outputs": [
    {
     "name": "stdout",
     "output_type": "stream",
     "text": [
      "[[[255. 255. 255.]\n",
      "  [255. 255. 255.]\n",
      "  [255. 255. 255.]\n",
      "  ...\n",
      "  [255. 255. 255.]\n",
      "  [255. 255. 255.]\n",
      "  [255. 255. 255.]]\n",
      "\n",
      " [[255. 255. 255.]\n",
      "  [255. 255. 255.]\n",
      "  [255. 255. 255.]\n",
      "  ...\n",
      "  [255. 255. 255.]\n",
      "  [255. 255. 255.]\n",
      "  [255. 255. 255.]]\n",
      "\n",
      " [[255. 255. 255.]\n",
      "  [255. 255. 255.]\n",
      "  [255. 255. 255.]\n",
      "  ...\n",
      "  [255. 255. 255.]\n",
      "  [255. 255. 255.]\n",
      "  [255. 255. 255.]]\n",
      "\n",
      " ...\n",
      "\n",
      " [[255. 255. 255.]\n",
      "  [255. 255. 255.]\n",
      "  [255. 255. 255.]\n",
      "  ...\n",
      "  [255. 255. 255.]\n",
      "  [255. 255. 255.]\n",
      "  [255. 255. 255.]]\n",
      "\n",
      " [[255. 255. 255.]\n",
      "  [255. 255. 255.]\n",
      "  [255. 255. 255.]\n",
      "  ...\n",
      "  [255. 255. 255.]\n",
      "  [255. 255. 255.]\n",
      "  [255. 255. 255.]]\n",
      "\n",
      " [[255. 255. 255.]\n",
      "  [255. 255. 255.]\n",
      "  [255. 255. 255.]\n",
      "  ...\n",
      "  [255. 255. 255.]\n",
      "  [255. 255. 255.]\n",
      "  [255. 255. 255.]]]\n"
     ]
    }
   ],
   "source": [
    "print(imgArray)"
   ]
  },
  {
   "cell_type": "code",
   "execution_count": 8,
   "metadata": {},
   "outputs": [
    {
     "data": {
      "text/plain": [
       "(224, 224, 3)"
      ]
     },
     "execution_count": 8,
     "metadata": {},
     "output_type": "execute_result"
    }
   ],
   "source": [
    "imgArray.shape"
   ]
  },
  {
   "cell_type": "code",
   "execution_count": 10,
   "metadata": {},
   "outputs": [],
   "source": [
    "# converting imgArray dimensions 224,224,3 to 1,224,224,3\n",
    "# why ? because keras work on batches of images not single image\n",
    "\n",
    "# if you have 100 images then you will have 100,224,224,3\n",
    "# if you have single image you have to tell keras that it is a batch of 1 image\n",
    "# resizing images \n",
    "# will give 4D array\n",
    "\n",
    "expandedImgArray = np.expand_dims(imgArray, axis=0)\n",
    "\n",
    " "
   ]
  },
  {
   "cell_type": "code",
   "execution_count": 11,
   "metadata": {},
   "outputs": [
    {
     "data": {
      "text/plain": [
       "array([[[[255., 255., 255.],\n",
       "         [255., 255., 255.],\n",
       "         [255., 255., 255.],\n",
       "         ...,\n",
       "         [255., 255., 255.],\n",
       "         [255., 255., 255.],\n",
       "         [255., 255., 255.]],\n",
       "\n",
       "        [[255., 255., 255.],\n",
       "         [255., 255., 255.],\n",
       "         [255., 255., 255.],\n",
       "         ...,\n",
       "         [255., 255., 255.],\n",
       "         [255., 255., 255.],\n",
       "         [255., 255., 255.]],\n",
       "\n",
       "        [[255., 255., 255.],\n",
       "         [255., 255., 255.],\n",
       "         [255., 255., 255.],\n",
       "         ...,\n",
       "         [255., 255., 255.],\n",
       "         [255., 255., 255.],\n",
       "         [255., 255., 255.]],\n",
       "\n",
       "        ...,\n",
       "\n",
       "        [[255., 255., 255.],\n",
       "         [255., 255., 255.],\n",
       "         [255., 255., 255.],\n",
       "         ...,\n",
       "         [255., 255., 255.],\n",
       "         [255., 255., 255.],\n",
       "         [255., 255., 255.]],\n",
       "\n",
       "        [[255., 255., 255.],\n",
       "         [255., 255., 255.],\n",
       "         [255., 255., 255.],\n",
       "         ...,\n",
       "         [255., 255., 255.],\n",
       "         [255., 255., 255.],\n",
       "         [255., 255., 255.]],\n",
       "\n",
       "        [[255., 255., 255.],\n",
       "         [255., 255., 255.],\n",
       "         [255., 255., 255.],\n",
       "         ...,\n",
       "         [255., 255., 255.],\n",
       "         [255., 255., 255.],\n",
       "         [255., 255., 255.]]]], dtype=float32)"
      ]
     },
     "execution_count": 11,
     "metadata": {},
     "output_type": "execute_result"
    }
   ],
   "source": [
    "expandedImgArray"
   ]
  },
  {
   "cell_type": "code",
   "execution_count": 12,
   "metadata": {},
   "outputs": [
    {
     "data": {
      "text/plain": [
       "(1, 224, 224, 3)"
      ]
     },
     "execution_count": 12,
     "metadata": {},
     "output_type": "execute_result"
    }
   ],
   "source": [
    "expandedImgArray.shape"
   ]
  },
  {
   "cell_type": "code",
   "execution_count": 14,
   "metadata": {},
   "outputs": [],
   "source": [
    "# Creating the ResnEt50 model and loading the weights, top layer is false because we will add own ours\n",
    "# Standard Image size 224, 224, 3\n",
    "\n",
    "model = ResNet50(weights='imagenet', include_top=False,\n",
    "                 input_shape=(224, 224, 3))\n"
   ]
  },
  {
   "cell_type": "code",
   "execution_count": 17,
   "metadata": {},
   "outputs": [],
   "source": [
    "model.trainable = False\n",
    "model = tensorflow.keras.Sequential([model, GlobalMaxPooling2D()])\n"
   ]
  },
  {
   "cell_type": "code",
   "execution_count": 18,
   "metadata": {},
   "outputs": [],
   "source": [
    "# preprocessing the image\n",
    "# preprocess_input is a function that will format the image into the format that the model expects\n",
    "\n",
    "preprocessedImg = preprocess_input(expandedImgArray)"
   ]
  },
  {
   "cell_type": "code",
   "execution_count": 19,
   "metadata": {},
   "outputs": [
    {
     "name": "stdout",
     "output_type": "stream",
     "text": [
      "(1, 224, 224, 3)\n"
     ]
    },
    {
     "data": {
      "text/plain": [
       "array([[[[151.061  , 138.22101, 131.32   ],\n",
       "         [151.061  , 138.22101, 131.32   ],\n",
       "         [151.061  , 138.22101, 131.32   ],\n",
       "         ...,\n",
       "         [151.061  , 138.22101, 131.32   ],\n",
       "         [151.061  , 138.22101, 131.32   ],\n",
       "         [151.061  , 138.22101, 131.32   ]],\n",
       "\n",
       "        [[151.061  , 138.22101, 131.32   ],\n",
       "         [151.061  , 138.22101, 131.32   ],\n",
       "         [151.061  , 138.22101, 131.32   ],\n",
       "         ...,\n",
       "         [151.061  , 138.22101, 131.32   ],\n",
       "         [151.061  , 138.22101, 131.32   ],\n",
       "         [151.061  , 138.22101, 131.32   ]],\n",
       "\n",
       "        [[151.061  , 138.22101, 131.32   ],\n",
       "         [151.061  , 138.22101, 131.32   ],\n",
       "         [151.061  , 138.22101, 131.32   ],\n",
       "         ...,\n",
       "         [151.061  , 138.22101, 131.32   ],\n",
       "         [151.061  , 138.22101, 131.32   ],\n",
       "         [151.061  , 138.22101, 131.32   ]],\n",
       "\n",
       "        ...,\n",
       "\n",
       "        [[151.061  , 138.22101, 131.32   ],\n",
       "         [151.061  , 138.22101, 131.32   ],\n",
       "         [151.061  , 138.22101, 131.32   ],\n",
       "         ...,\n",
       "         [151.061  , 138.22101, 131.32   ],\n",
       "         [151.061  , 138.22101, 131.32   ],\n",
       "         [151.061  , 138.22101, 131.32   ]],\n",
       "\n",
       "        [[151.061  , 138.22101, 131.32   ],\n",
       "         [151.061  , 138.22101, 131.32   ],\n",
       "         [151.061  , 138.22101, 131.32   ],\n",
       "         ...,\n",
       "         [151.061  , 138.22101, 131.32   ],\n",
       "         [151.061  , 138.22101, 131.32   ],\n",
       "         [151.061  , 138.22101, 131.32   ]],\n",
       "\n",
       "        [[151.061  , 138.22101, 131.32   ],\n",
       "         [151.061  , 138.22101, 131.32   ],\n",
       "         [151.061  , 138.22101, 131.32   ],\n",
       "         ...,\n",
       "         [151.061  , 138.22101, 131.32   ],\n",
       "         [151.061  , 138.22101, 131.32   ],\n",
       "         [151.061  , 138.22101, 131.32   ]]]], dtype=float32)"
      ]
     },
     "execution_count": 19,
     "metadata": {},
     "output_type": "execute_result"
    }
   ],
   "source": [
    "print(preprocessedImg.shape)\n",
    "preprocessedImg"
   ]
  },
  {
   "cell_type": "code",
   "execution_count": 20,
   "metadata": {},
   "outputs": [
    {
     "data": {
      "text/plain": [
       "array([[ 1.6351392, 19.32439  ,  1.808047 , ...,  1.1685898, 17.437454 ,\n",
       "        12.0990305]], dtype=float32)"
      ]
     },
     "execution_count": 20,
     "metadata": {},
     "output_type": "execute_result"
    }
   ],
   "source": [
    "model.predict(preprocessedImg)"
   ]
  },
  {
   "cell_type": "code",
   "execution_count": 23,
   "metadata": {},
   "outputs": [
    {
     "data": {
      "text/plain": [
       "(1, 2048)"
      ]
     },
     "execution_count": 23,
     "metadata": {},
     "output_type": "execute_result"
    }
   ],
   "source": [
    "model.predict(preprocessedImg).shape\n",
    "\n",
    "# 1 image and 2048 features/embedding values"
   ]
  },
  {
   "cell_type": "code",
   "execution_count": 24,
   "metadata": {},
   "outputs": [
    {
     "data": {
      "text/plain": [
       "(2048,)"
      ]
     },
     "execution_count": 24,
     "metadata": {},
     "output_type": "execute_result"
    }
   ],
   "source": [
    "# flatten the array to convert into 1D array\n",
    "\n",
    "model.predict(preprocessedImg).flatten().shape\n"
   ]
  },
  {
   "cell_type": "code",
   "execution_count": 30,
   "metadata": {},
   "outputs": [
    {
     "data": {
      "text/plain": [
       "array([0.00491867, 0.05812978, 0.00543879, ..., 0.00351524, 0.05245368,\n",
       "       0.03639515], dtype=float32)"
      ]
     },
     "execution_count": 30,
     "metadata": {},
     "output_type": "execute_result"
    }
   ],
   "source": [
    "# we are dividing by the norm of the vector to normalize the vector means to make the vector length 1 dividing every number with 313.5\n",
    "model.predict(preprocessedImg).flatten()/norm(model.predict(preprocessedImg).flatten())"
   ]
  },
  {
   "cell_type": "code",
   "execution_count": null,
   "metadata": {},
   "outputs": [],
   "source": [
    "\n"
   ]
  }
 ],
 "metadata": {
  "kernelspec": {
   "display_name": "Python 3.7.7 64-bit",
   "language": "python",
   "name": "python3"
  },
  "language_info": {
   "codemirror_mode": {
    "name": "ipython",
    "version": 3
   },
   "file_extension": ".py",
   "mimetype": "text/x-python",
   "name": "python",
   "nbconvert_exporter": "python",
   "pygments_lexer": "ipython3",
   "version": "3.7.7"
  },
  "orig_nbformat": 4,
  "vscode": {
   "interpreter": {
    "hash": "69713e280fccb9aa802931bf1b98f79efcfe938b3ab1e86cc85b2e647522a81d"
   }
  }
 },
 "nbformat": 4,
 "nbformat_minor": 2
}
